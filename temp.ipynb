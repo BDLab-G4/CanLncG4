{
 "cells": [
  {
   "cell_type": "code",
   "execution_count": 1,
   "metadata": {},
   "outputs": [],
   "source": [
    "import numpy as np\n",
    "import matplotlib.pyplot as plt\n",
    "from scipy import stats\n",
    "import pandas as pd"
   ]
  },
  {
   "cell_type": "code",
   "execution_count": 2,
   "metadata": {},
   "outputs": [],
   "source": [
    "particles_per_seconds = np.array( [1,0.93, 0.95, 0.84, 0.88, 1.05, 0.96, 0.91, 0.98, 1.1, 1.04])\n",
    "multiplier = 6.15839e-5\n",
    "\n",
    "monolayer_per_seconds = particles_per_seconds * multiplier"
   ]
  },
  {
   "cell_type": "code",
   "execution_count": 6,
   "metadata": {},
   "outputs": [
    {
     "data": {
      "text/plain": [
       "(5.956842690909092e-05, 4.541375892286701e-06)"
      ]
     },
     "execution_count": 6,
     "metadata": {},
     "output_type": "execute_result"
    }
   ],
   "source": [
    "monolayer_per_seconds.mean(), monolayer_per_seconds.std()"
   ]
  },
  {
   "cell_type": "code",
   "execution_count": 26,
   "metadata": {},
   "outputs": [
    {
     "data": {
      "text/plain": [
       "(array([4.0000e+00, 0.0000e+00, 1.0000e+00, 2.0000e+00, 0.0000e+00,\n",
       "        4.0000e+00, 3.0000e+00, 6.0000e+00, 9.0000e+00, 1.1000e+01,\n",
       "        1.6000e+01, 3.5000e+01, 4.6000e+01, 6.0000e+01, 8.7000e+01,\n",
       "        1.5400e+02, 1.7800e+02, 2.7600e+02, 3.9100e+02, 4.7100e+02,\n",
       "        6.4600e+02, 8.1300e+02, 1.0930e+03, 1.4720e+03, 1.9060e+03,\n",
       "        2.4020e+03, 2.9890e+03, 3.8310e+03, 4.7340e+03, 5.7320e+03,\n",
       "        6.9230e+03, 8.5110e+03, 9.9150e+03, 1.0288e+04, 1.3466e+04,\n",
       "        1.5494e+04, 1.7762e+04, 1.9783e+04, 2.2281e+04, 2.4428e+04,\n",
       "        2.7010e+04, 2.9330e+04, 3.1877e+04, 3.4005e+04, 3.5454e+04,\n",
       "        3.6922e+04, 3.8247e+04, 3.9542e+04, 3.9418e+04, 3.9925e+04,\n",
       "        3.9704e+04, 3.8820e+04, 3.7579e+04, 3.6473e+04, 3.4881e+04,\n",
       "        3.2647e+04, 3.0841e+04, 2.8375e+04, 2.6087e+04, 2.3710e+04,\n",
       "        2.1358e+04, 1.8942e+04, 1.6764e+04, 1.4660e+04, 1.2689e+04,\n",
       "        1.0833e+04, 8.3640e+03, 7.7540e+03, 6.4350e+03, 5.3930e+03,\n",
       "        4.2860e+03, 3.4130e+03, 2.8400e+03, 2.1940e+03, 1.7030e+03,\n",
       "        1.3580e+03, 9.6600e+02, 8.0600e+02, 6.2100e+02, 4.3700e+02,\n",
       "        3.4100e+02, 2.2500e+02, 1.5500e+02, 1.2800e+02, 9.4000e+01,\n",
       "        5.3000e+01, 3.4000e+01, 2.7000e+01, 1.6000e+01, 1.4000e+01,\n",
       "        1.1000e+01, 3.0000e+00, 6.0000e+00, 1.0000e+00, 3.0000e+00,\n",
       "        1.0000e+00, 0.0000e+00, 0.0000e+00, 0.0000e+00, 1.0000e+00]),\n",
       " array([-492.  , -482.03, -472.06, -462.09, -452.12, -442.15, -432.18,\n",
       "        -422.21, -412.24, -402.27, -392.3 , -382.33, -372.36, -362.39,\n",
       "        -352.42, -342.45, -332.48, -322.51, -312.54, -302.57, -292.6 ,\n",
       "        -282.63, -272.66, -262.69, -252.72, -242.75, -232.78, -222.81,\n",
       "        -212.84, -202.87, -192.9 , -182.93, -172.96, -162.99, -153.02,\n",
       "        -143.05, -133.08, -123.11, -113.14, -103.17,  -93.2 ,  -83.23,\n",
       "         -73.26,  -63.29,  -53.32,  -43.35,  -33.38,  -23.41,  -13.44,\n",
       "          -3.47,    6.5 ,   16.47,   26.44,   36.41,   46.38,   56.35,\n",
       "          66.32,   76.29,   86.26,   96.23,  106.2 ,  116.17,  126.14,\n",
       "         136.11,  146.08,  156.05,  166.02,  175.99,  185.96,  195.93,\n",
       "         205.9 ,  215.87,  225.84,  235.81,  245.78,  255.75,  265.72,\n",
       "         275.69,  285.66,  295.63,  305.6 ,  315.57,  325.54,  335.51,\n",
       "         345.48,  355.45,  365.42,  375.39,  385.36,  395.33,  405.3 ,\n",
       "         415.27,  425.24,  435.21,  445.18,  455.15,  465.12,  475.09,\n",
       "         485.06,  495.03,  505.  ]),\n",
       " <BarContainer object of 100 artists>)"
      ]
     },
     "execution_count": 26,
     "metadata": {},
     "output_type": "execute_result"
    },
    {
     "data": {
      "image/png": "[encoded data removed]",
      "text/plain": [
       "<Figure size 640x480 with 1 Axes>"
      ]
     },
     "metadata": {},
     "output_type": "display_data"
    }
   ],
   "source": [
    "# gausian random numbers between -1 and 1. 9999 of them\n",
    "random_numbers = np.floor(np.random.normal(0,100,999999))\n",
    "\n",
    "plt.hist(random_numbers, bins=100)"
   ]
  },
  {
   "cell_type": "code",
   "execution_count": 27,
   "metadata": {},
   "outputs": [
    {
     "data": {
      "text/plain": [
       "0    14.0\n",
       "dtype: float64"
      ]
     },
     "execution_count": 27,
     "metadata": {},
     "output_type": "execute_result"
    }
   ],
   "source": [
    "# using pandas find mode of random numbers. basically the most common number\n",
    "pd.Series(random_numbers).mode()"
   ]
  },
  {
   "cell_type": "code",
   "execution_count": 76,
   "metadata": {},
   "outputs": [],
   "source": [
    "import numpy as np\n",
    "import matplotlib.pyplot as plt\n",
    "import matplotlib.animation as animation\n",
    "from matplotlib import use\n",
    "\n",
    "# Use Qt backend for interactive window\n",
    "use('Qt5Agg')\n",
    "\n",
    "# Parameters\n",
    "L = 20e-3  # Length of the cylinder in meters\n",
    "D = 4.5e-12  # Diffusion coefficient in m^2/s\n",
    "N = 100  # Number of spatial points (discretization)\n",
    "dx = L / N  # Spatial step size\n",
    "dt = 100  # Adjusted time step in seconds\n",
    "\n",
    "\n",
    "# Adjusting animation parameters\n",
    "frame_interval = 0  # Interval between frames in milliseconds (adjust as needed)\n",
    "total_frames = 9999  # Total number of frames in the animation\n",
    "\n",
    "# Initial condition: concentration is highest at the center\n",
    "concentration = np.zeros(N)\n",
    "center = N // 2\n",
    "concentration[center - 1:center + 1] = 1  # Setting initial concentration at the center\n",
    "\n",
    "# Tracking the peak and minimum concentrations over time\n",
    "peak_concentrations = []\n",
    "min_concentrations = []\n",
    "times = []\n",
    "\n",
    "# Diffusion equation: discretization using finite differences\n",
    "def diffuse(concentration):\n",
    "    new_concentration = np.copy(concentration)\n",
    "    for i in range(1, N-1):\n",
    "        new_concentration[i] = concentration[i] + (D * dt / dx**2) * (concentration[i+1] - 2*concentration[i] + concentration[i-1])\n",
    "    return new_concentration\n",
    "\n",
    "# Prepare the animation\n",
    "fig, (ax1, ax2, ax3) = plt.subplots(3, 1, figsize=(8, 9))\n",
    "line1, = ax1.plot(np.linspace(0, L, N), concentration, color='blue')\n",
    "ax1.set_xlim(0, L)\n",
    "ax1.set_ylim(0, 1.1)\n",
    "ax1.set_xlabel('Length of Cylinder (m)')\n",
    "ax1.set_ylabel('Concentration')\n",
    "time_text = ax1.text(0.02, 0.95, '', transform=ax1.transAxes)\n",
    "\n",
    "# Setup for the peak concentration plot\n",
    "line2, = ax2.plot([], [], color='red')\n",
    "ax2.set_xlim(0, total_frames * dt / 3600)  # Time in hours\n",
    "ax2.set_ylim(0, 1.1)\n",
    "ax2.set_xlabel('Time (hours)')\n",
    "ax2.set_ylabel('Peak Concentration')\n",
    "\n",
    "# Setup for the minimum concentration plot\n",
    "line3, = ax3.plot([], [], color='green')\n",
    "ax3.set_xlim(0, total_frames * dt / 3600)  # Time in hours\n",
    "ax3.set_ylim(0, 0.01)\n",
    "ax3.set_xlabel('Time (hours)')\n",
    "ax3.set_ylabel('Concentration at some bin')\n",
    "\n",
    "# Animation function\n",
    "def animate(frame):\n",
    "    global concentration\n",
    "    concentration = diffuse(concentration)\n",
    "    peak_concentrations.append(np.max(concentration))\n",
    "    # min_concentrations.append(np.min(concentration))\n",
    "    # append the concentration at the 10th point to the min_concentrations list\n",
    "    min_concentrations.append(concentration[20])\n",
    "    times.append(frame * dt / 3600)\n",
    "\n",
    "    line1.set_ydata(concentration)\n",
    "    time_text.set_text(f'Time: {times[-1]:.2f} hours')\n",
    "\n",
    "    line2.set_data(times, peak_concentrations)\n",
    "    line3.set_data(times, min_concentrations)\n",
    "\n",
    "    \n",
    "\n",
    "    return line1, line2, line3, time_text\n",
    "\n",
    "# Create and start the animation\n",
    "ani = animation.FuncAnimation(fig, animate, frames=total_frames, interval=frame_interval, blit=True, repeat=False)\n",
    "plt.show()\n"
   ]
  },
  {
   "cell_type": "code",
   "execution_count": 1,
   "metadata": {},
   "outputs": [],
   "source": [
    "import pandas as pd"
   ]
  },
  {
   "cell_type": "code",
   "execution_count": 10,
   "metadata": {},
   "outputs": [],
   "source": [
    "sheet_1 = pd.read_excel(r\"C:\\Users\\Admin\\Downloads\\CanLncG4-master\\CanLncG4-master\\python_server\\sheet_1.xlsx\")\n",
    "map_lcrna_name_to_alias = {}\n",
    "\n",
    "# get the map from lcrna name to alias\n",
    "for index, row in sheet_1.iterrows():\n",
    "    map_lcrna_name_to_alias[row['lncrna_name']] = row['aliases']\n"
   ]
  },
  {
   "cell_type": "code",
   "execution_count": 25,
   "metadata": {},
   "outputs": [],
   "source": [
    "sheet_A = pd.read_excel(r\"C:\\Users\\Admin\\Downloads\\CanLncG4-master\\CanLncG4-master\\python_server\\LncRNA-interaction-partners\\A.xlsx\")\n",
    "sheet_B = pd.read_excel(r\"C:\\Users\\Admin\\Downloads\\CanLncG4-master\\CanLncG4-master\\python_server\\LncRNA-interaction-partners\\B.xlsx\")\n",
    "sheet_C = pd.read_excel(r\"C:\\Users\\Admin\\Downloads\\CanLncG4-master\\CanLncG4-master\\python_server\\LncRNA-interaction-partners\\C.xlsx\")\n",
    "sheet_D = pd.read_excel(r\"C:\\Users\\Admin\\Downloads\\CanLncG4-master\\CanLncG4-master\\python_server\\LncRNA-interaction-partners\\D.xlsx\")\n",
    "\n",
    "# add aliases column to each sheet based on column \"Interactor Name\" and map_lcrna_name_to_alias\n",
    "sheet_A['aliases'] = sheet_A['Interactor Name'].map(map_lcrna_name_to_alias)\n",
    "sheet_C['aliases'] = sheet_C['Interactor Name'].map(map_lcrna_name_to_alias)\n",
    "\n",
    "# if there is no alias, then fill it with \"\"\n",
    "sheet_A['aliases'].fillna(\"\", inplace=True)\n",
    "sheet_C['aliases'].fillna(\"\", inplace=True)\n",
    "sheet_B['aliases'] = sheet_B['Regulator Name'].map(map_lcrna_name_to_alias)\n",
    "sheet_D['aliases'] = sheet_D['Regulator Name'].map(map_lcrna_name_to_alias)\n",
    "\n",
    "# if there is no alias, then fill it with \"\"\n",
    "sheet_B['aliases'].fillna(\"\", inplace=True)\n",
    "sheet_D['aliases'].fillna(\"\", inplace=True)\n",
    "\n"
   ]
  },
  {
   "cell_type": "code",
   "execution_count": 28,
   "metadata": {},
   "outputs": [],
   "source": [
    "# save the new sheets to excel files\n",
    "sheet_A.to_excel(r\"C:\\Users\\Admin\\Downloads\\CanLncG4-master\\CanLncG4-master\\python_server\\LncRNA-interaction-partners\\A.xlsx\")\n",
    "sheet_B.to_excel(r\"C:\\Users\\Admin\\Downloads\\CanLncG4-master\\CanLncG4-master\\python_server\\LncRNA-interaction-partners\\B.xlsx\")\n",
    "sheet_C.to_excel(r\"C:\\Users\\Admin\\Downloads\\CanLncG4-master\\CanLncG4-master\\python_server\\LncRNA-interaction-partners\\C.xlsx\")\n",
    "sheet_D.to_excel(r\"C:\\Users\\Admin\\Downloads\\CanLncG4-master\\CanLncG4-master\\python_server\\LncRNA-interaction-partners\\D.xlsx\")"
   ]
  },
  {
   "cell_type": "code",
   "execution_count": null,
   "metadata": {},
   "outputs": [],
   "source": []
  }
 ],
 "metadata": {
  "kernelspec": {
   "display_name": "base",
   "language": "python",
   "name": "python3"
  },
  "language_info": {
   "codemirror_mode": {
    "name": "ipython",
    "version": 3
   },
   "file_extension": ".py",
   "mimetype": "text/x-python",
   "name": "python",
   "nbconvert_exporter": "python",
   "pygments_lexer": "ipython3",
   "version": "3.9.13"
  }
 },
 "nbformat": 4,
 "nbformat_minor": 2
}
